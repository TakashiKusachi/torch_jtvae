{
 "cells": [
  {
   "cell_type": "markdown",
   "metadata": {},
   "source": [
    "# Preprocess for JT-VAE train"
   ]
  },
  {
   "cell_type": "code",
   "execution_count": 1,
   "metadata": {},
   "outputs": [
    {
     "name": "stdout",
     "output_type": "stream",
     "text": [
      "--2020-01-22 11:33:58--  https://github.com/TakashiKusachi/icml18-jtnn/raw/master/data/zinc/all.txt\n",
      "cache.ccs.kogakuin.ac.jp (cache.ccs.kogakuin.ac.jp) をDNSに問いあわせています... 133.80.8.17, 2001:df0:456:603::17\n",
      "cache.ccs.kogakuin.ac.jp (cache.ccs.kogakuin.ac.jp)|133.80.8.17|:8080 に接続しています... 接続しました。\n",
      "Proxy による接続要求を送信しました、応答を待っています... 302 Found\n",
      "場所: https://raw.githubusercontent.com/TakashiKusachi/icml18-jtnn/master/data/zinc/all.txt [続く]\n",
      "--2020-01-22 11:33:59--  https://raw.githubusercontent.com/TakashiKusachi/icml18-jtnn/master/data/zinc/all.txt\n",
      "cache.ccs.kogakuin.ac.jp (cache.ccs.kogakuin.ac.jp)|133.80.8.17|:8080 に接続しています... 接続しました。\n",
      "Proxy による接続要求を送信しました、応答を待っています... 200 OK\n",
      "長さ: 11303042 (11M) [text/plain]\n",
      "`all.txt' に保存中\n",
      "\n",
      "all.txt             100%[===================>]  10.78M  46.2MB/s    時間 0.2s  \n",
      "\n",
      "2020-01-22 11:33:59 (46.2 MB/s) - `all.txt' へ保存完了 [11303042/11303042]\n",
      "\n"
     ]
    }
   ],
   "source": [
    "! wget https://github.com/TakashiKusachi/icml18-jtnn/raw/master/data/zinc/all.txt"
   ]
  },
  {
   "cell_type": "code",
   "execution_count": 2,
   "metadata": {},
   "outputs": [
    {
     "name": "stderr",
     "output_type": "stream",
     "text": [
      "RDKit WARNING: [11:34:12] Enabling RDKit 2019.09.3 jupyter extensions\n"
     ]
    }
   ],
   "source": [
    "from torch_jtnn.scripts import make_vocab\n",
    "from torch_jtnn.scripts import preprocess"
   ]
  },
  {
   "cell_type": "code",
   "execution_count": 3,
   "metadata": {},
   "outputs": [
    {
     "name": "stdout",
     "output_type": "stream",
     "text": [
      "number of smiles: 249456\n",
      "Now Processing\n",
      "Now Processing\n",
      "Number of Vocab: 784\n"
     ]
    }
   ],
   "source": [
    "make_vocab(\"all.txt\",\"vocab.txt\")"
   ]
  },
  {
   "cell_type": "code",
   "execution_count": 5,
   "metadata": {},
   "outputs": [
    {
     "name": "stdout",
     "output_type": "stream",
     "text": [
      "number of dataset: 249456\n",
      "Current 0\n",
      "Current 1\n",
      "Current 2\n",
      "Current 3\n",
      "Current 4\n",
      "Current 5\n",
      "Current 6\n",
      "Current 7\n",
      "Current 8\n",
      "Current 9\n",
      "Current 10\n",
      "Current 11\n",
      "Current 12\n",
      "Current 13\n",
      "Current 14\n",
      "Current 15\n",
      "Current 16\n",
      "Current 17\n",
      "Current 18\n",
      "Current 19\n",
      "Current 20\n",
      "Current 21\n",
      "Current 22\n",
      "Current 23\n",
      "Current 24\n",
      "Current 25\n",
      "Current 26\n",
      "Current 27\n",
      "Current 28\n",
      "Current 29\n",
      "Current 30\n",
      "Current 31\n",
      "Current 32\n",
      "Current 33\n",
      "Current 34\n",
      "Current 35\n",
      "Current 36\n",
      "Current 37\n",
      "Current 38\n",
      "Current 39\n",
      "Current 40\n",
      "Current 41\n",
      "Current 42\n",
      "Current 43\n",
      "Current 44\n",
      "Current 45\n",
      "Current 46\n",
      "Current 47\n",
      "Current 48\n",
      "Current 49\n",
      "Current 50\n",
      "Current 51\n",
      "Current 52\n",
      "Current 53\n",
      "Current 54\n",
      "Current 55\n",
      "Current 56\n",
      "Current 57\n",
      "Current 58\n",
      "Current 59\n",
      "Current 60\n",
      "Current 61\n",
      "Current 62\n",
      "Current 63\n",
      "Current 64\n",
      "Current 65\n",
      "Current 66\n",
      "Current 67\n",
      "Current 68\n",
      "Current 69\n",
      "Current 70\n",
      "Current 71\n",
      "Current 72\n",
      "Current 73\n",
      "Current 74\n",
      "Current 75\n",
      "Current 76\n",
      "Current 77\n",
      "Current 78\n",
      "Current 79\n",
      "Current 80\n",
      "Current 81\n",
      "Current 82\n",
      "Current 83\n",
      "Current 84\n",
      "Current 85\n",
      "Current 86\n",
      "Current 87\n",
      "Current 88\n",
      "Current 89\n",
      "Current 90\n",
      "Current 91\n",
      "Current 92\n",
      "Current 93\n",
      "Current 94\n",
      "Current 95\n",
      "Current 96\n",
      "Current 97\n",
      "Current 98\n",
      "Current 99\n"
     ]
    }
   ],
   "source": [
    "preprocess(\"all.txt\",100,10)"
   ]
  },
  {
   "cell_type": "code",
   "execution_count": 6,
   "metadata": {},
   "outputs": [],
   "source": [
    "! mkdir processed\n",
    "! mv tensors* processed"
   ]
  },
  {
   "cell_type": "code",
   "execution_count": 7,
   "metadata": {},
   "outputs": [],
   "source": [
    "from torch_jtnn.scripts import jtvae_trainer"
   ]
  },
  {
   "cell_type": "code",
   "execution_count": null,
   "metadata": {},
   "outputs": [],
   "source": [
    "!mkdir vae_model\n",
    "jtvae_trainer(\"processed\",\"MS_vocab.txt\",\"vae_model\",hidden_size=100)"
   ]
  }
 ],
 "metadata": {
  "kernelspec": {
   "display_name": "workspace",
   "language": "python",
   "name": "workspace"
  },
  "language_info": {
   "codemirror_mode": {
    "name": "ipython",
    "version": 3
   },
   "file_extension": ".py",
   "mimetype": "text/x-python",
   "name": "python",
   "nbconvert_exporter": "python",
   "pygments_lexer": "ipython3",
   "version": "3.6.8"
  }
 },
 "nbformat": 4,
 "nbformat_minor": 4
}
