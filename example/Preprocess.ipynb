{
 "cells": [
  {
   "cell_type": "markdown",
   "metadata": {},
   "source": [
    "# Preprocess for JT-VAE train"
   ]
  },
  {
   "cell_type": "code",
   "execution_count": 1,
   "metadata": {},
   "outputs": [
    {
     "name": "stdout",
     "output_type": "stream",
     "text": [
      "--2020-01-22 11:33:58--  https://github.com/TakashiKusachi/icml18-jtnn/raw/master/data/zinc/all.txt\n",
      "cache.ccs.kogakuin.ac.jp (cache.ccs.kogakuin.ac.jp) をDNSに問いあわせています... 133.80.8.17, 2001:df0:456:603::17\n",
      "cache.ccs.kogakuin.ac.jp (cache.ccs.kogakuin.ac.jp)|133.80.8.17|:8080 に接続しています... 接続しました。\n",
      "Proxy による接続要求を送信しました、応答を待っています... 302 Found\n",
      "場所: https://raw.githubusercontent.com/TakashiKusachi/icml18-jtnn/master/data/zinc/all.txt [続く]\n",
      "--2020-01-22 11:33:59--  https://raw.githubusercontent.com/TakashiKusachi/icml18-jtnn/master/data/zinc/all.txt\n",
      "cache.ccs.kogakuin.ac.jp (cache.ccs.kogakuin.ac.jp)|133.80.8.17|:8080 に接続しています... 接続しました。\n",
      "Proxy による接続要求を送信しました、応答を待っています... 200 OK\n",
      "長さ: 11303042 (11M) [text/plain]\n",
      "`all.txt' に保存中\n",
      "\n",
      "all.txt             100%[===================>]  10.78M  46.2MB/s    時間 0.2s  \n",
      "\n",
      "2020-01-22 11:33:59 (46.2 MB/s) - `all.txt' へ保存完了 [11303042/11303042]\n",
      "\n"
     ]
    }
   ],
   "source": [
    "! wget https://github.com/TakashiKusachi/icml18-jtnn/raw/master/data/zinc/all.txt"
   ]
  },
  {
   "cell_type": "code",
   "execution_count": 2,
   "metadata": {},
   "outputs": [
    {
     "name": "stderr",
     "output_type": "stream",
     "text": [
      "RDKit WARNING: [11:34:12] Enabling RDKit 2019.09.3 jupyter extensions\n"
     ]
    }
   ],
   "source": [
    "from torch_jtnn.scripts import make_vocab\n",
    "from torch_jtnn.scripts import preprocess"
   ]
  },
  {
   "cell_type": "code",
   "execution_count": 3,
   "metadata": {},
   "outputs": [
    {
     "name": "stdout",
     "output_type": "stream",
     "text": [
      "number of smiles: 249456\n",
      "Now Processing\n",
      "Now Processing\n",
      "Number of Vocab: 784\n"
     ]
    }
   ],
   "source": [
    "make_vocab(\"all.txt\",\"vocab.txt\")"
   ]
  },
  {
   "cell_type": "code",
   "execution_count": null,
   "metadata": {},
   "outputs": [
    {
     "name": "stdout",
     "output_type": "stream",
     "text": [
      "number of dataset: 249456\n",
      "Current 0\n",
      "Current 1\n",
      "Current 2\n",
      "Current 3\n",
      "Current 4\n",
      "Current 5\n",
      "Current 6\n",
      "Current 7\n"
     ]
    }
   ],
   "source": [
    "preprocess(\"all.txt\",100,10)"
   ]
  },
  {
   "cell_type": "code",
   "execution_count": 3,
   "metadata": {},
   "outputs": [],
   "source": [
    "! mkdir processed\n",
    "! mv tensors* processed"
   ]
  },
  {
   "cell_type": "code",
   "execution_count": null,
   "metadata": {},
   "outputs": [],
   "source": [
    "from torch_jtnn.scripts import jtvae_trainer"
   ]
  },
  {
   "cell_type": "code",
   "execution_count": null,
   "metadata": {},
   "outputs": [],
   "source": [
    "jtvae_trainer(\"processed\",\"MS_vocab.txt\",\"vae_model\",hidden_size=100)"
   ]
  }
 ],
 "metadata": {
  "kernelspec": {
   "display_name": "workspace",
   "language": "python",
   "name": "workspace"
  },
  "language_info": {
   "codemirror_mode": {
    "name": "ipython",
    "version": 3
   },
   "file_extension": ".py",
   "mimetype": "text/x-python",
   "name": "python",
   "nbconvert_exporter": "python",
   "pygments_lexer": "ipython3",
   "version": "3.6.8"
  }
 },
 "nbformat": 4,
 "nbformat_minor": 4
}
